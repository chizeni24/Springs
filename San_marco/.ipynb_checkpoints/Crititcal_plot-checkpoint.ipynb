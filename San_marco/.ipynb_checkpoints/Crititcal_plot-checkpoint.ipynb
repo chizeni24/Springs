{
 "cells": [
  {
   "cell_type": "code",
   "execution_count": null,
   "metadata": {},
   "outputs": [],
   "source": []
  },
  {
   "cell_type": "code",
   "execution_count": 163,
   "metadata": {},
   "outputs": [
    {
     "data": {
      "text/html": [
       "<style>.output {\n",
       "    display: flex;\n",
       "    align-items: center;\n",
       "    text-align: center;}</style> "
      ],
      "text/plain": [
       "<IPython.core.display.HTML object>"
      ]
     },
     "metadata": {},
     "output_type": "display_data"
    },
    {
     "name": "stdout",
     "output_type": "stream",
     "text": [
      " All libraries, tools, and functions have been succesfully uploaded  \n"
     ]
    }
   ],
   "source": [
    "#-----------------------------------------------------------------------------------------------\n",
    "#\n",
    "# ------------- Forecasted Decadal Reductions in Groundwater Pum--------------------\n",
    "# ----------------------------------------------------------------------------------------------\n",
    "# -----------Using Tiered Critical Management Plan (CMP) and MACA data -------------------------\n",
    "#-----------------------------------------------------------------------------------------------\n",
    "#\n",
    "#-----------------------------------------------------------------------------------------------\n",
    "#--- import libraries and packages\n",
    "#-----------------------------------------------------------------------------------------------\n",
    "\n",
    "import pandas as pd\n",
    "import numpy as np\n",
    "import math\n",
    "from wdmtoolbox import wdmtoolbox \n",
    "import matplotlib.pyplot as plt\n",
    "\n",
    "%matplotlib inline \n",
    "\n",
    "from datetime import datetime   \n",
    "from dateutil import relativedelta\n",
    "\n",
    "import numpy.polynomial.polynomial as poly\n",
    "\n",
    "from sklearn import linear_model\n",
    "from sklearn.linear_model import LinearRegression\n",
    "from sklearn.metrics import mean_squared_error\n",
    "\n",
    "from datetime import datetime, timedelta\n",
    "\n",
    "from functools import reduce\n",
    "\n",
    "from PIL import Image\n",
    "\n",
    "from itertools import islice\n",
    "\n",
    "import csv\n",
    "\n",
    "import matplotlib.dates as mdates\n",
    "\n",
    "from pandas import ExcelWriter\n",
    "from pandas import ExcelFile\n",
    "\n",
    "\n",
    "import os\n",
    "from matplotlib import rc\n",
    "import matplotlib.ticker as mtick         \n",
    "\n",
    "# center all the figures and tables throughout the report\n",
    "from IPython.display import display, HTML\n",
    "display(HTML(\"\"\"<style>.output {\n",
    "    display: flex;\n",
    "    align-items: center;\n",
    "    text-align: center;}</style> \"\"\"))\n",
    "\n",
    "print (' All libraries, tools, and functions have been succesfully uploaded  ')"
   ]
  },
  {
   "cell_type": "markdown",
   "metadata": {},
   "source": [
    "**CHANGE THE PATH OF FILE**"
   ]
  },
  {
   "cell_type": "code",
   "execution_count": 164,
   "metadata": {},
   "outputs": [
    {
     "data": {
      "text/plain": [
       "'/home/c0d3b23ak32/Desktop/XAI/Springs/San_marco/Extratree_untuned/RCP85/df_future.xlsx'"
      ]
     },
     "execution_count": 164,
     "metadata": {},
     "output_type": "execute_result"
    }
   ],
   "source": [
    "import os.path \n",
    "filename = '/home/c0d3b23ak32/Desktop/XAI/Springs/San_marco/Extratree_untuned/RCP85/df_future.xlsx'\n",
    "filename\n"
   ]
  },
  {
   "cell_type": "code",
   "execution_count": 165,
   "metadata": {
    "scrolled": true
   },
   "outputs": [],
   "source": [
    "#-------------------------------------------------------------------------------------------------------\n",
    "# J17 Groundwater Level [m]\n",
    "#-------------------------------------------------------------------------------------------------------\n",
    "df_SpringFlow_original  = pd.read_excel(filename,engine = \"openpyxl\")\n",
    "df_SpringFlow_original  = df_SpringFlow_original.rename(columns = {'Unnamed: 0' : 'Date'})\n",
    "df_SpringFlow_data      =df_SpringFlow_original[['Date','SF$[m^3/s]$' ]]\n"
   ]
  },
  {
   "cell_type": "code",
   "execution_count": 166,
   "metadata": {},
   "outputs": [],
   "source": [
    "#-------------------------------------------------------------------------------------------------------\n",
    "# remove the data before 12/31/2019 \n",
    "#-------------------------------------------------------------------------------------------------------\n",
    "\n",
    "condition_to_slice     = (df_SpringFlow_data.Date > '2020-11-29') \n",
    "df_SpringFlow_data_reduced = []\n",
    "df_SpringFlow_data_reduced = df_SpringFlow_data[condition_to_slice]\n",
    "df_SpringFlow_data_reduced.reset_index(drop=True, inplace=True)\n",
    "#df_SpringFlow_data_reduced\n"
   ]
  },
  {
   "cell_type": "code",
   "execution_count": 167,
   "metadata": {},
   "outputs": [
    {
     "name": "stdout",
     "output_type": "stream",
     "text": [
      "SpringFlow data at J17 starts on : 2020-12-06\n",
      "SpringFlow data at J17 ends on : 2099-12-27\n"
     ]
    }
   ],
   "source": [
    "#-----------------------------------------------------------------------------------------------------------\n",
    "# start and end dates\n",
    "#------------------------------------------------------------------------------------------------------------\n",
    "\n",
    "time_start = str( df_SpringFlow_data_reduced.Date.iloc[0].floor('d')  ).rstrip(' 00:00:00')\n",
    "time_end   = str( df_SpringFlow_data_reduced.Date.iloc[-1].floor('d') ).rstrip(' 00:00:00')\n",
    "\n",
    "print('SpringFlow data at J17 starts on :', time_start)\n",
    "print('SpringFlow data at J17 ends on :', time_end)\n"
   ]
  },
  {
   "cell_type": "code",
   "execution_count": 168,
   "metadata": {},
   "outputs": [],
   "source": [
    "#-------------------------------------------------------------------------------------------------------\n",
    "# numeric values of GWL data\n",
    "#-------------------------------------------------------------------------------------------------------\n",
    "df_numeric_values_J17 = pd.to_numeric(df_SpringFlow_data_reduced['SF$[m^3/s]$' ], errors='coerce')\n",
    "df_numeric_values_J17\n",
    "\n",
    "df_SpringFlow = df_numeric_values_J17.to_frame()\n",
    "df_SpringFlow\n",
    "\n",
    "df_SpringFlow['Date'] = df_SpringFlow_data_reduced.Date\n",
    "df_SpringFlow\n",
    "\n",
    "cols = list(df_SpringFlow.columns)\n",
    "cols.insert(0, cols.pop(cols.index('Date')))\n",
    "df_SpringFlow = df_SpringFlow.loc[:, cols]\n",
    "#df_SpringFlow\n",
    "#plt.plot(df_SpringFlow)"
   ]
  },
  {
   "cell_type": "code",
   "execution_count": 169,
   "metadata": {},
   "outputs": [
    {
     "data": {
      "text/html": [
       "<div>\n",
       "<style scoped>\n",
       "    .dataframe tbody tr th:only-of-type {\n",
       "        vertical-align: middle;\n",
       "    }\n",
       "\n",
       "    .dataframe tbody tr th {\n",
       "        vertical-align: top;\n",
       "    }\n",
       "\n",
       "    .dataframe thead th {\n",
       "        text-align: right;\n",
       "    }\n",
       "</style>\n",
       "<table border=\"1\" class=\"dataframe\">\n",
       "  <thead>\n",
       "    <tr style=\"text-align: right;\">\n",
       "      <th></th>\n",
       "      <th>Date</th>\n",
       "      <th>SF$[m^3/s]$</th>\n",
       "    </tr>\n",
       "  </thead>\n",
       "  <tbody>\n",
       "    <tr>\n",
       "      <th>0</th>\n",
       "      <td>2006-01-01</td>\n",
       "      <td>4.065490</td>\n",
       "    </tr>\n",
       "    <tr>\n",
       "      <th>1</th>\n",
       "      <td>2006-01-08</td>\n",
       "      <td>4.036486</td>\n",
       "    </tr>\n",
       "    <tr>\n",
       "      <th>2</th>\n",
       "      <td>2006-01-15</td>\n",
       "      <td>3.939851</td>\n",
       "    </tr>\n",
       "    <tr>\n",
       "      <th>3</th>\n",
       "      <td>2006-01-22</td>\n",
       "      <td>3.882547</td>\n",
       "    </tr>\n",
       "    <tr>\n",
       "      <th>4</th>\n",
       "      <td>2006-01-29</td>\n",
       "      <td>3.781989</td>\n",
       "    </tr>\n",
       "    <tr>\n",
       "      <th>...</th>\n",
       "      <td>...</td>\n",
       "      <td>...</td>\n",
       "    </tr>\n",
       "    <tr>\n",
       "      <th>4900</th>\n",
       "      <td>2099-11-29</td>\n",
       "      <td>3.753564</td>\n",
       "    </tr>\n",
       "    <tr>\n",
       "      <th>4901</th>\n",
       "      <td>2099-12-06</td>\n",
       "      <td>3.745604</td>\n",
       "    </tr>\n",
       "    <tr>\n",
       "      <th>4902</th>\n",
       "      <td>2099-12-13</td>\n",
       "      <td>3.732304</td>\n",
       "    </tr>\n",
       "    <tr>\n",
       "      <th>4903</th>\n",
       "      <td>2099-12-20</td>\n",
       "      <td>3.687406</td>\n",
       "    </tr>\n",
       "    <tr>\n",
       "      <th>4904</th>\n",
       "      <td>2099-12-27</td>\n",
       "      <td>3.659220</td>\n",
       "    </tr>\n",
       "  </tbody>\n",
       "</table>\n",
       "<p>4905 rows × 2 columns</p>\n",
       "</div>"
      ],
      "text/plain": [
       "           Date  SF$[m^3/s]$\n",
       "0    2006-01-01     4.065490\n",
       "1    2006-01-08     4.036486\n",
       "2    2006-01-15     3.939851\n",
       "3    2006-01-22     3.882547\n",
       "4    2006-01-29     3.781989\n",
       "...         ...          ...\n",
       "4900 2099-11-29     3.753564\n",
       "4901 2099-12-06     3.745604\n",
       "4902 2099-12-13     3.732304\n",
       "4903 2099-12-20     3.687406\n",
       "4904 2099-12-27     3.659220\n",
       "\n",
       "[4905 rows x 2 columns]"
      ]
     },
     "execution_count": 169,
     "metadata": {},
     "output_type": "execute_result"
    }
   ],
   "source": [
    "df_SpringFlow_data"
   ]
  },
  {
   "cell_type": "code",
   "execution_count": 170,
   "metadata": {},
   "outputs": [],
   "source": [
    "#--------------------------------------------------------------------------------------------------------------------\n",
    "# ----  basic statistics\n",
    "#--------------------------------------------------------------------------------------------------------------------\n",
    "\n",
    "def simple_stat(df_data):\n",
    "    print('Number of measurements :   ', len(df_data),'\\n')     \n",
    "    minval = df_data.min()\n",
    "    maxval = df_data.max()\n",
    "    typical_vals = maxval\n",
    "    df_stat = pd.concat([minval, maxval, typical_vals], axis = 1)\n",
    "    df_stat = df_stat.rename(columns={0 : 'Min', 1 : 'Max',  2 : 'Reference'})\n",
    "    df_stat.loc[df_stat['Reference'] == maxval[0],  'Reference']  =  ' '\n",
    "    df_stat.loc[df_stat['Reference'] == maxval[1],  'Reference']  =  '150-250 m'\n",
    "    return df_stat"
   ]
  },
  {
   "cell_type": "code",
   "execution_count": 171,
   "metadata": {
    "scrolled": true
   },
   "outputs": [
    {
     "name": "stdout",
     "output_type": "stream",
     "text": [
      "Number of measurements :    4126 \n",
      "\n"
     ]
    },
    {
     "data": {
      "text/html": [
       "<div>\n",
       "<style scoped>\n",
       "    .dataframe tbody tr th:only-of-type {\n",
       "        vertical-align: middle;\n",
       "    }\n",
       "\n",
       "    .dataframe tbody tr th {\n",
       "        vertical-align: top;\n",
       "    }\n",
       "\n",
       "    .dataframe thead th {\n",
       "        text-align: right;\n",
       "    }\n",
       "</style>\n",
       "<table border=\"1\" class=\"dataframe\">\n",
       "  <thead>\n",
       "    <tr style=\"text-align: right;\">\n",
       "      <th></th>\n",
       "      <th>Min</th>\n",
       "      <th>Max</th>\n",
       "      <th>Reference</th>\n",
       "    </tr>\n",
       "  </thead>\n",
       "  <tbody>\n",
       "    <tr>\n",
       "      <th>Date</th>\n",
       "      <td>2020-12-06 00:00:00</td>\n",
       "      <td>2099-12-27 00:00:00</td>\n",
       "      <td></td>\n",
       "    </tr>\n",
       "    <tr>\n",
       "      <th>SF$[m^3/s]$</th>\n",
       "      <td>2.32094</td>\n",
       "      <td>9.02006</td>\n",
       "      <td>150-250 m</td>\n",
       "    </tr>\n",
       "  </tbody>\n",
       "</table>\n",
       "</div>"
      ],
      "text/plain": [
       "                             Min                  Max  Reference\n",
       "Date         2020-12-06 00:00:00  2099-12-27 00:00:00           \n",
       "SF$[m^3/s]$              2.32094              9.02006  150-250 m"
      ]
     },
     "metadata": {},
     "output_type": "display_data"
    }
   ],
   "source": [
    "#---------------------------------------------------------------------------------------\n",
    "# Data Quality Check -- basic statistics \n",
    "#---------------------------------------------------------------------------------------\n",
    "\n",
    "simple_stat = simple_stat(df_SpringFlow)\n",
    "simple_stat.style.set_properties(**{'width': '200px'})\n",
    "display(simple_stat)"
   ]
  },
  {
   "cell_type": "code",
   "execution_count": 172,
   "metadata": {},
   "outputs": [
    {
     "name": "stdout",
     "output_type": "stream",
     "text": [
      "Data length             : 4126\n",
      "Number missing data     : 0\n",
      "% missing data          : 0.0\n"
     ]
    },
    {
     "data": {
      "text/plain": [
       "0.0"
      ]
     },
     "execution_count": 172,
     "metadata": {},
     "output_type": "execute_result"
    }
   ],
   "source": [
    "#---------------------------------------------------------------------------------------\n",
    "# calculate number of missing J17 gw data \n",
    "#---------------------------------------------------------------------------------------\n",
    "\n",
    "data_len = len(df_SpringFlow)\n",
    "print('Data length             :', data_len)\n",
    "\n",
    "data_non_null = df_SpringFlow['SF$[m^3/s]$'].count()\n",
    "miss_data     = data_len - data_non_null\n",
    "print('Number missing data     :', miss_data)\n",
    "\n",
    "percent_missing_data = df_SpringFlow['SF$[m^3/s]$'].count()\n",
    "print('% missing data          :', round ( (100 * miss_data / data_len), 1) )\n",
    "\n",
    "per_miss_data = 100 * miss_data / data_len\n",
    "per_miss_data"
   ]
  },
  {
   "cell_type": "code",
   "execution_count": 173,
   "metadata": {},
   "outputs": [],
   "source": [
    "if per_miss_data > 1.0 :  # if <1% data is missing\n",
    "    #---------------------------------------------------------------------------------------\n",
    "    # impute missing data by linear interpolation - temp solution\n",
    "    #---------------------------------------------------------------------------------------\n",
    "    print('linear interpolation is implemented')\n",
    "    df_SpringFlow['SF$[m^3/s]$'].interpolate(method = 'linear', limit_direction = 'both', inplace =True)\n",
    "    data_non_null = df_SpringFlow['SF$[m^3/s]$'].count()\n",
    "    data_non_null"
   ]
  },
  {
   "cell_type": "code",
   "execution_count": 174,
   "metadata": {},
   "outputs": [],
   "source": [
    "#----------------------------------------------------------------------------------------------------------------------\n",
    "# plot data - basic\n",
    "#----------------------------------------------------------------------------------------------------------------------\n",
    "def plot_basic(Station, df, data, fnt_size, y_ax_label, ymin, ymax, data_label):\n",
    "    fig = plt.figure()\n",
    "    fig      = plt.figure(figsize=(20,28))\n",
    "    ax = fig.add_subplot(4,2,1)\n",
    "    ax.plot(df.Date, df[data],'-', color = 'red', lw = 1.5, mfc= 'None', markersize=13, label = data_label)\n",
    "\n",
    "    #ax.grid()\n",
    "    ax.grid(True, which='major', axis='x' )\n",
    "    ax.grid(True, which='major', axis='y' )\n",
    "    ax.set_xlabel('Date', fontsize = fnt_size)\n",
    "    ax.tick_params(axis = \"x\", labelsize = fnt_size)\n",
    "    ax.xaxis.set_tick_params(pad=5)\n",
    "    #ax.xaxis.set_major_locator(mdates.YearLocator())\n",
    "    #ax.xaxis.set_major_formatter(mdates.DateFormatter('%Y-%M'))\n",
    "    ax.set_ylabel(y_ax_label, fontsize = fnt_size), ax.set_ylim([ymin, ymax])\n",
    "    ax.tick_params(axis = \"y\", labelsize = fnt_size)\n",
    "    ax.yaxis.set_tick_params(pad=5) \n",
    "    plt.xticks(rotation = 30)\n",
    "    yoffset=0.05                    \n",
    "    ax.set_title(Station, fontsize = fnt_size)\n",
    "    shiftx_annot =  0\n",
    "    shifty_annot = 0.40        \n",
    "    plt.show()"
   ]
  },
  {
   "cell_type": "code",
   "execution_count": 175,
   "metadata": {},
   "outputs": [
    {
     "data": {
      "text/html": [
       "<div>\n",
       "<style scoped>\n",
       "    .dataframe tbody tr th:only-of-type {\n",
       "        vertical-align: middle;\n",
       "    }\n",
       "\n",
       "    .dataframe tbody tr th {\n",
       "        vertical-align: top;\n",
       "    }\n",
       "\n",
       "    .dataframe thead th {\n",
       "        text-align: right;\n",
       "    }\n",
       "</style>\n",
       "<table border=\"1\" class=\"dataframe\">\n",
       "  <thead>\n",
       "    <tr style=\"text-align: right;\">\n",
       "      <th></th>\n",
       "      <th>Date</th>\n",
       "      <th>SF$[m^3/s]$</th>\n",
       "    </tr>\n",
       "  </thead>\n",
       "  <tbody>\n",
       "    <tr>\n",
       "      <th>0</th>\n",
       "      <td>2020-12-06</td>\n",
       "      <td>3.587887</td>\n",
       "    </tr>\n",
       "    <tr>\n",
       "      <th>1</th>\n",
       "      <td>2020-12-13</td>\n",
       "      <td>3.579874</td>\n",
       "    </tr>\n",
       "    <tr>\n",
       "      <th>2</th>\n",
       "      <td>2020-12-20</td>\n",
       "      <td>3.649449</td>\n",
       "    </tr>\n",
       "    <tr>\n",
       "      <th>3</th>\n",
       "      <td>2020-12-27</td>\n",
       "      <td>3.595519</td>\n",
       "    </tr>\n",
       "    <tr>\n",
       "      <th>4</th>\n",
       "      <td>2021-01-03</td>\n",
       "      <td>3.734769</td>\n",
       "    </tr>\n",
       "    <tr>\n",
       "      <th>...</th>\n",
       "      <td>...</td>\n",
       "      <td>...</td>\n",
       "    </tr>\n",
       "    <tr>\n",
       "      <th>4121</th>\n",
       "      <td>2099-11-29</td>\n",
       "      <td>3.753564</td>\n",
       "    </tr>\n",
       "    <tr>\n",
       "      <th>4122</th>\n",
       "      <td>2099-12-06</td>\n",
       "      <td>3.745604</td>\n",
       "    </tr>\n",
       "    <tr>\n",
       "      <th>4123</th>\n",
       "      <td>2099-12-13</td>\n",
       "      <td>3.732304</td>\n",
       "    </tr>\n",
       "    <tr>\n",
       "      <th>4124</th>\n",
       "      <td>2099-12-20</td>\n",
       "      <td>3.687406</td>\n",
       "    </tr>\n",
       "    <tr>\n",
       "      <th>4125</th>\n",
       "      <td>2099-12-27</td>\n",
       "      <td>3.659220</td>\n",
       "    </tr>\n",
       "  </tbody>\n",
       "</table>\n",
       "<p>4126 rows × 2 columns</p>\n",
       "</div>"
      ],
      "text/plain": [
       "           Date  SF$[m^3/s]$\n",
       "0    2020-12-06     3.587887\n",
       "1    2020-12-13     3.579874\n",
       "2    2020-12-20     3.649449\n",
       "3    2020-12-27     3.595519\n",
       "4    2021-01-03     3.734769\n",
       "...         ...          ...\n",
       "4121 2099-11-29     3.753564\n",
       "4122 2099-12-06     3.745604\n",
       "4123 2099-12-13     3.732304\n",
       "4124 2099-12-20     3.687406\n",
       "4125 2099-12-27     3.659220\n",
       "\n",
       "[4126 rows x 2 columns]"
      ]
     },
     "execution_count": 175,
     "metadata": {},
     "output_type": "execute_result"
    }
   ],
   "source": [
    "df_SpringFlow\n"
   ]
  },
  {
   "cell_type": "code",
   "execution_count": 176,
   "metadata": {},
   "outputs": [
    {
     "data": {
      "text/plain": [
       "<Figure size 432x288 with 0 Axes>"
      ]
     },
     "metadata": {},
     "output_type": "display_data"
    },
    {
     "data": {
      "image/png": "[encoded data removed]",
      "text/plain": [
       "<Figure size 1440x2016 with 1 Axes>"
      ]
     },
     "metadata": {
      "needs_background": "light"
     },
     "output_type": "display_data"
    }
   ],
   "source": [
    "#----------------------------------------------------------------------------------------------------------------------\n",
    "# plot springflow at J-17\n",
    "#----------------------------------------------------------------------------------------------------------------------\n",
    "fnt_size    = 20\n",
    "leg_loc     = 2\n",
    "Station     = 'USGS 08170000 San Marcos Springs at New Bruanfels'\n",
    "label       = 'Spring Flow'\n",
    "y_ax_label  =  'SF$[m^3/s]$'\n",
    "y_min       = 0\n",
    "y_max       = 15 \n",
    "\n",
    "plot_basic(Station, df_SpringFlow, 'SF$[m^3/s]$', fnt_size, y_ax_label, y_min, y_max, label)"
   ]
  },
  {
   "cell_type": "code",
   "execution_count": 177,
   "metadata": {},
   "outputs": [],
   "source": [
    "#----------------------------------------------------------------------------------------------------------------------\n",
    "# plot data with critical stage requirement\n",
    "#----------------------------------------------------------------------------------------------------------------------\n",
    "\n",
    "def plot_with_critical_stage(Station, df, data, fnt_size, y_ax_label, ymin, ymax, data_label,num_of_cs, cs_1, \\\n",
    "                             cs_2, cs_line_th, leg_loc, CS_level_loc_x):\n",
    "    # cs -> critical stage\n",
    "    fig = plt.figure()\n",
    "    fig = plt.figure(figsize=(20,28))\n",
    "    ax  = fig.add_subplot(4,2,1)\n",
    "\n",
    "    ax.plot(df.Date, df[data],'-', color = 'red', lw = 1.5, mfc= 'None', markersize=13, label = data_label)\n",
    "\n",
    "    ax.grid(True, which='major', axis='x' )\n",
    "    ax.grid(True, which='major', axis='y' )\n",
    "    ax.set_xlabel('Date', fontsize = fnt_size)\n",
    "    ax.tick_params(axis = \"x\", labelsize = fnt_size)\n",
    "    ax.xaxis.set_tick_params(pad=5)\n",
    "    #ax.xaxis.set_major_locator(mdates.YearLocator())\n",
    "    #ax.xaxis.set_major_formatter(mdates.DateFormatter('%Y-%M'))\n",
    "    ax.set_ylabel(y_ax_label, fontsize = fnt_size), ax.set_ylim([ymin, ymax])\n",
    "    ax.tick_params(axis = \"y\", labelsize = fnt_size)\n",
    "    ax.yaxis.set_tick_params(pad=5) # gap between ticks and axis\n",
    "    plt.xticks(rotation = 30)\n",
    "    ax.set_title(Station, fontsize = fnt_size)\n",
    "\n",
    "    critical_stage = cs_1\n",
    "    y1             = critical_stage + cs_line_th\n",
    "    y2             = critical_stage - cs_line_th      \n",
    "    ax.fill_between(df.Date, y1, y2 , alpha=0.3, facecolor='blue')\n",
    "    font = {'family': 'serif', 'color':  'blue', 'weight': 'normal', 'size': 14,}\n",
    "    plt.text(df.Date[len(df)-1], critical_stage-.3, r'CS1', fontdict=font)\n",
    "\n",
    "    critical_stage = cs_2\n",
    "    y1             = critical_stage + cs_line_th\n",
    "    y2             = critical_stage - cs_line_th\n",
    "    ax.fill_between(df.Date, y1, y2 , alpha=0.3, facecolor='blue')\n",
    "    font = {'family': 'serif', 'color':  'blue', 'weight': 'normal', 'size': 14,}\n",
    "    plt.text(df.Date[len(df)-1], critical_stage-.3, r'CS2', fontdict=font)\n",
    "\n",
    "    \n",
    "    shiftx_annot =  0\n",
    "    shifty_annot = 0.40\n",
    "        \n",
    "    plt.show()\n"
   ]
  },
  {
   "cell_type": "code",
   "execution_count": 178,
   "metadata": {},
   "outputs": [
    {
     "data": {
      "text/plain": [
       "<Figure size 432x288 with 0 Axes>"
      ]
     },
     "metadata": {},
     "output_type": "display_data"
    },
    {
     "data": {
      "image/png": "[encoded data removed]",
      "text/plain": [
       "<Figure size 1440x2016 with 1 Axes>"
      ]
     },
     "metadata": {
      "needs_background": "light"
     },
     "output_type": "display_data"
    }
   ],
   "source": [
    "#-------------------------------------------------------------------------------------------------------------\n",
    "# plot groundwater elevation at J-17\n",
    "#-------------------------------------------------------------------------------------------------------------\n",
    "cfs_to_m3  = 0.028316847\n",
    "fnt_size      = 20\n",
    "leg_loc       = 2\n",
    "Station       = 'USGS 08170000 San Marcos Springs at New Bruanfels'\n",
    "label         = 'San Antonio'\n",
    "y_ax_label    =  'SF$[m^3/s]$'\n",
    "y_min         = 0\n",
    "y_max         = 14 \n",
    "num_cs        = 5   # number of critical stages \n",
    "cs1           = 96 * cfs_to_m3      # 660 # ft\n",
    "cs2           = 80 * cfs_to_m3      # 650 # ft \n",
    "#cs3           = 150 * cfs_to_m3      # 640 # ft\n",
    "#cs4           = 100 * cfs_to_m3      # 630 # ft\n",
    "#cs5           = 45 * cfs_to_m3      # 625 # ft\n",
    "cs_line_thick = 0.1\n",
    "legend_loc    = 2\n",
    "\n",
    "plot_with_critical_stage(Station, df_SpringFlow, 'SF$[m^3/s]$', fnt_size, y_ax_label, y_min, y_max, label, num_cs, cs1,cs2, cs_line_thick, legend_loc, df_SpringFlow.Date[len(df_SpringFlow)-1])"
   ]
  },
  {
   "cell_type": "code",
   "execution_count": 179,
   "metadata": {},
   "outputs": [],
   "source": [
    "#------------------------------------------------------------------------------------------------------\n",
    "# - genarate the begining and end of decades as a list\n",
    "#------------------------------------------------------------------------------------------------------\n",
    "\n",
    "fmt                 =  \"%Y-%m-%d\"\n",
    "frequency_start     = '10AS'\n",
    "frequency_end       = '10A'\n",
    "\n",
    "def date_list_generator(date_begin, num_per, frequency, fmt):\n",
    "    date_list = []\n",
    "    dates_raw = (pd.date_range(start = date_begin, periods = num_per, freq = frequency))\n",
    "    date_list =  dates_raw.strftime(fmt).to_list()\n",
    "    return date_list\n"
   ]
  },
  {
   "cell_type": "code",
   "execution_count": 180,
   "metadata": {},
   "outputs": [
    {
     "name": "stdout",
     "output_type": "stream",
     "text": [
      "['2020-01-01', '2030-01-01', '2040-01-01', '2050-01-01', '2060-01-01', '2070-01-01', '2080-01-01', '2090-01-01']\n",
      "['2029-12-31', '2039-12-31', '2049-12-31', '2059-12-31', '2069-12-31', '2079-12-31', '2089-12-31', '2099-12-31']\n"
     ]
    }
   ],
   "source": [
    "start_date_list = []\n",
    "date_start = '01-01-2020'\n",
    "no_of_periods = 8\n",
    "start_date_list = date_list_generator(date_start, no_of_periods, frequency_start, fmt) \n",
    "print(start_date_list)\n",
    "\n",
    "end_data_list = []\n",
    "date_start = '12-31-2029'\n",
    "end_data_list = date_list_generator(date_start, no_of_periods, frequency_end, fmt) \n",
    "print(end_data_list)\n",
    "\n",
    "#time_period_list = ['2020-2030', '2030-2040', '2040-2050', '2050-2060', '2060-2070' , '2070-2080', '2080-2090', '2090-2100'] \n",
    "time_period_list = ['1', '2', '3', '4', '5' , '6', '7', '8']\n",
    "#print(time_period_list)"
   ]
  },
  {
   "cell_type": "code",
   "execution_count": 181,
   "metadata": {},
   "outputs": [],
   "source": [
    "CS_dataframe = []\n",
    "CS           = np.array([0, 1, 2, 3, 4, 5])\n",
    "CS_dataframe = pd.DataFrame({'CS' : CS}) \n",
    "CS_dataframe\n",
    "\n",
    "#------------------------------------------------------------------------------------------------------------------\n",
    "# function that calculates % of unmet critical stages\n",
    "#------------------------------------------------------------------------------------------------------------------\n",
    "\n",
    "def CS_per_calculator (df, var, time_start, time_end, time_period, CS1, CS2 ): \n",
    "    \n",
    "    date_int       = (df.Date > time_start) & (df.Date < time_end) \n",
    "    df_temp        = []\n",
    "    df_temp        = df[date_int]\n",
    "    df_temp.reset_index(drop = True, inplace = True)\n",
    "    len_data       = len(df_temp)\n",
    "    #print(len_data)\n",
    "    \n",
    "    condition      = df[var] >= CS1 \n",
    "    Percent_no_CS  = (df.Date[date_int & condition].count() ) / len_data\n",
    "    Percent_no_CS\n",
    "\n",
    "    condition      = (df[var] < CS1) & (df[var] >= CS2)\n",
    "    Percent_CS1    = (df.Date[date_int & condition].count() ) / len_data\n",
    "    Percent_CS1    \n",
    "    \n",
    "    condition      = (df[var] < CS2) \n",
    "    Percent_CS2    = (df.Date[date_int & condition].count() ) / len_data\n",
    "    Percent_CS2\n",
    "    \n",
    "         \n",
    "    per_CSs = np.array([Percent_no_CS,  Percent_CS1, Percent_CS2])\n",
    "    CS_dataframe[time_period]= pd.Series(per_CSs)\n",
    "    sum_col = CS_dataframe[time_period].sum()\n",
    "   \n",
    "    # make sure that sums up to 1.0\n",
    "    print('time period :', time_period, ' sum of CS:', sum_col)   \n",
    "    \n",
    "    return CS_dataframe"
   ]
  },
  {
   "cell_type": "code",
   "execution_count": 182,
   "metadata": {},
   "outputs": [
    {
     "name": "stdout",
     "output_type": "stream",
     "text": [
      "time period : 1  sum of CS: 1.0\n",
      "time period : 2  sum of CS: 1.0\n",
      "time period : 3  sum of CS: 1.0\n",
      "time period : 4  sum of CS: 1.0\n",
      "time period : 5  sum of CS: 1.0\n",
      "time period : 6  sum of CS: 1.0\n",
      "time period : 7  sum of CS: 1.0\n",
      "time period : 8  sum of CS: 1.0\n"
     ]
    }
   ],
   "source": [
    "for i in range(len(start_date_list)):\n",
    "    time_start  = start_date_list[i]\n",
    "    time_end    = end_data_list[i]\n",
    "    time_period = time_period_list[i]\n",
    "    df = CS_per_calculator (df_SpringFlow, 'SF$[m^3/s]$', time_start, time_end, time_period, cs1, cs2) \n",
    "      \n",
    "df_SF_barblot = []\n",
    "df_SF_barblot = df.copy()\n",
    "\n",
    ", time_start, time_end, time_period, cs1, cs2) \n",
    "      \n",
    "df_SF_barblot = []\n",
    "df_SF_barblot = df.copy()\n",
    "\n",
    ", time_start, time_end, time_period, cs1, cs2) \n",
    "      \n",
    "df_SF_barblot = []\n",
    "df_SF_barblot = df.copy()\n",
    "\n",
    ", time_start, time_end, time_period, cs1, cs2) \n",
    "      \n",
    "df_SF_barblot = []\n",
    "df_SF_barblot = df.copy()\n",
    "\n"
   ]
  },
  {
   "cell_type": "code",
   "execution_count": 185,
   "metadata": {},
   "outputs": [],
   "source": [
    "#----------------------------------------------------------------------------------------------------------------------\n",
    "# bar plot subroutine\n",
    "#----------------------------------------------------------------------------------------------------------------------\n",
    "\n",
    "from matplotlib import rc\n",
    "\n",
    "#----------------------------------------------------------------------------------------------------------------------\n",
    "# bar plot subroutine\n",
    "#----------------------------------------------------------------------------------------------------------------------\n",
    "def bar_plot_CS(df, title):\n",
    "\n",
    "    fig = plt.figure()\n",
    "    fig.set_size_inches(12.5, 8.5)    \n",
    "    fnt_size = 24\n",
    "    \n",
    "    # y-axis in bold\n",
    "    rc('font', weight='normal')\n",
    " \n",
    "    # Values of each group\n",
    "    bars1 = list(df.iloc[0,1:])\n",
    "    bars2 = list(df.iloc[1,1:])\n",
    "    bars3 = list(df.iloc[2,1:])\n",
    "    bars4 = list(df.iloc[3,1:])\n",
    "    bars5 = list(df.iloc[4,1:])\n",
    "    bars6 = list(df.iloc[5,1:])\n",
    "    \n",
    "\n",
    "    # Heights of bars(i) + bars(i+1)\n",
    "    bars   = np.add(bars1, bars2).tolist()\n",
    "    bars12 = np.add(bars1, bars2).tolist()\n",
    "    bars23 = np.add(bars12, bars3).tolist()\n",
    "    bars34 = np.add(bars23, bars4).tolist()\n",
    "    bars45 = np.add(bars34, bars5).tolist()\n",
    "\n",
    "    # The position of the bars on the x-axis\n",
    "    r = [0,1,2,3,4, 5, 6, 7]\n",
    " \n",
    "    # Names of group and bar width\n",
    "    names = df.columns[1:]\n",
    "    barWidth = 1\n",
    " \n",
    "    # Create blue bars\n",
    "    plt.bar(r, bars1, color='whitesmoke', edgecolor='black', width=barWidth, label='No restriction')\n",
    "    # Create green bars\n",
    "    plt.bar(r, bars2, bottom=bars1, color='seashell', edgecolor='black', width=barWidth, label='Critical Stage I')\n",
    "    # Create khaki bars \n",
    "    plt.bar(r, bars3, bottom=bars12, color='#ffc49b', edgecolor='black', width=barWidth, label='Critical Stage II')\n",
    "    # Create coral bars\n",
    "    #plt.bar(r, bars4, bottom=bars23, color='coral', edgecolor='white', width=barWidth, label='Critical Stage III')\n",
    "    # Create crimson bars (top)\n",
    "    #plt.bar(r, bars5, bottom=bars34, color='crimson', edgecolor='white', width=barWidth, label='Critical Stage IV')\n",
    "    # Create crimson bars (top)\n",
    "    #plt.bar(r, bars6, bottom=bars45, color='black', edgecolor='white', width=barWidth, label='Critical Stage V')\n",
    " \n",
    "    # Custom X axis\n",
    "    plt.xticks(r, names, rotation = 0, fontsize = fnt_size)\n",
    "    plt.xlabel(\"Future Decades\",  fontsize = fnt_size)\n",
    "\n",
    "    plt.ylabel('Fractional Occurrences', fontsize = fnt_size)\n",
    "    plt.yticks(fontsize = fnt_size)\n",
    "    #plt.title(title, fontsize = fnt_size)\n",
    "\n",
    "    #plt.legend(loc=(0.64, 0.03), prop={'size': fnt_size-2})\n",
    "    legend = plt.legend(bbox_to_anchor=(0., 1.01, 1., 0.), handletextpad=0.5,\n",
    "                    loc='lower left', ncol=3, mode=\"expand\", borderaxespad=0,\n",
    "                    numpoints=1, handlelength=1.5, fontsize = fnt_size, frameon=True)\n",
    "    legend.get_frame().set_linewidth('5')\n",
    "\n",
    "\n",
    "    fig.savefig(title + '.jpeg', format='jpg', dpi=300, bbox_inches = 'tight')\n",
    "    \n",
    "    # Show graphic\n",
    "    plt.show()\n"
   ]
  },
  {
   "cell_type": "code",
   "execution_count": 186,
   "metadata": {},
   "outputs": [
    {
     "data": {
      "image/png": "[encoded data removed]",
      "text/plain": [
       "<Figure size 900x612 with 1 Axes>"
      ]
     },
     "metadata": {
      "needs_background": "light"
     },
     "output_type": "display_data"
    }
   ],
   "source": [
    "#----------------------------------------------------------------------------------------------------------------------\n",
    "# bar plot for J17\n",
    "#----------------------------------------------------------------------------------------------------------------------\n",
    "fig_title = 'SF_RCP_8_5_barplot'\n",
    "bar_plot_CS(df_SF_barblot, fig_title)\n",
    "\n"
   ]
  },
  {
   "cell_type": "code",
   "execution_count": null,
   "metadata": {},
   "outputs": [],
   "source": []
  }
 ],
 "metadata": {
  "interpreter": {
   "hash": "9663f43baed29d9c51e7c53f006bb18f9fe16c0c3ba42b9991cae283e1c6a93f"
  },
  "kernelspec": {
   "display_name": "Python 3",
   "language": "python",
   "name": "python3"
  },
  "language_info": {
   "codemirror_mode": {
    "name": "ipython",
    "version": 3
   },
   "file_extension": ".py",
   "mimetype": "text/x-python",
   "name": "python",
   "nbconvert_exporter": "python",
   "pygments_lexer": "ipython3",
   "version": "3.7.7"
  }
 },
 "nbformat": 4,
 "nbformat_minor": 2
}
