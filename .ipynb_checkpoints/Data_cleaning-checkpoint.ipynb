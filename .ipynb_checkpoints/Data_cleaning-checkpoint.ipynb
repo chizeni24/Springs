{
 "cells": [
  {
   "cell_type": "code",
   "execution_count": 3,
   "id": "2891f2a8",
   "metadata": {},
   "outputs": [
    {
     "data": {
      "text/html": [
       "<style>.output {\n",
       "\tdisplay: flex;\n",
       "\talign-items: center;\n",
       "\ttext-align: center;}</style> "
      ],
      "text/plain": [
       "<IPython.core.display.HTML object>"
      ]
     },
     "metadata": {},
     "output_type": "display_data"
    },
    {
     "data": {
      "text/html": [
       "<style>.output {\n",
       "    display: flex;\n",
       "    align-items: center;\n",
       "    text-align: center;}</style> "
      ],
      "text/plain": [
       "<IPython.core.display.HTML object>"
      ]
     },
     "metadata": {},
     "output_type": "display_data"
    }
   ],
   "source": [
    "%run -i process.py"
   ]
  },
  {
   "cell_type": "markdown",
   "id": "16ff196e",
   "metadata": {},
   "source": [
    "## Load files "
   ]
  },
  {
   "cell_type": "code",
   "execution_count": 4,
   "id": "4fe46c91",
   "metadata": {},
   "outputs": [
    {
     "name": "stdout",
     "output_type": "stream",
     "text": [
      "San Marcos\n",
      "+----------+--------------+---------------+------------+\n",
      "| Features | Observations | No of missing | % Missing  |\n",
      "+----------+--------------+---------------+------------+\n",
      "|   PRCP   |    22281     |     1087      |    4.9%    |\n",
      "|   TMAX   |    22281     |      858      |    3.9%    |\n",
      "|   TMIN   |    22281     |      972      |    4.4%    |\n",
      "+----------+--------------+---------------+------------+\n",
      "San Marcos_PRISM\n",
      "+----------+--------------+---------------+------------+\n",
      "| Features | Observations | No of missing | % Missing  |\n",
      "+----------+--------------+---------------+------------+\n",
      "|  P_PRCP  |    14609     |       0       |    0.0%    |\n",
      "|  P_TMIN  |    14609     |       0       |    0.0%    |\n",
      "|  P_TMAX  |    14609     |       0       |    0.0%    |\n",
      "+----------+--------------+---------------+------------+\n"
     ]
    }
   ],
   "source": [
    "## Load the NOAA ##\n",
    "\n",
    "filename = r\"NOAA_SAN_MARCOS.csv\"\n",
    "\n",
    "df_SM_NOAA =pd.read_csv(filename)\n",
    "df_SM_NOAA.index = pd.DatetimeIndex(df_SM_NOAA['DATE'])\n",
    "df_SM_NOAA = df_SM_NOAA.drop(columns =[ 'STATION','NAME','LATITUDE'\n",
    "                                        ,'LONGITUDE','ELEVATION','DATE'])\n",
    "df_Dateindex = df_SM_NOAA.index\n",
    "###------Make the Date Range equal---------------------###\n",
    "df_SM_NOAA = (df_SM_NOAA[(df_SM_NOAA.index >='1960-01-01')\n",
    "                        &(df_SM_NOAA.index <= '2020-12-31')])\n",
    "\n",
    "print('San Marcos')\n",
    "## Statistics and split the dataframe >= Prism & <= Prism\n",
    "df_range = pd.date_range(start=df_SM_NOAA.index[0], end=df_SM_NOAA.index[-1])\n",
    "\n",
    "###---From the data range obtain the missing values-------------#df_PRISM###\n",
    "missing_values = df_range.difference(df_SM_NOAA.index)\n",
    "#missing_values\n",
    "\n",
    "df_range = pd.DataFrame(df_range, columns=['DATE'], index = None)\n",
    "df_range.columns = ['DATE']\n",
    "df_range.index = df_range['DATE']\n",
    " \n",
    "df_SM_NOAA = pd.concat([df_range, df_SM_NOAA], axis=1, join='outer')\n",
    "df_SM_NOAA = df_SM_NOAA.drop(columns='DATE')\n",
    "\n",
    "status(df_SM_NOAA)\n",
    "\n",
    "##Load Prism\n",
    "\n",
    "filename = r\"PRISM_.csv\"\n",
    "base_dir = os.getcwd()\n",
    "df_PRISM =pd.read_csv(os.path.join(base_dir,filename))\n",
    "#indexer.index = indexer['DATE']\n",
    "df_PRISM = df_PRISM.rename(columns = {'Date':'DATE'}) \n",
    "df_PRISM.index = pd.DatetimeIndex(df_PRISM.DATE)\n",
    "df_PRISM=df_PRISM.drop(columns='DATE')\n",
    "df_PRISM =df_PRISM.set_axis(['P_PRCP', 'P_TMIN', 'P_TMAX'], axis='columns')\n",
    "df_PRISM = df_PRISM[df_PRISM.index < '2020-12-31']\n",
    "\n",
    "print('San Marcos_PRISM')\n",
    "\n",
    "status(df_PRISM)\n"
   ]
  },
  {
   "cell_type": "markdown",
   "id": "0c2c446a",
   "metadata": {},
   "source": [
    "## Before Prism data"
   ]
  },
  {
   "cell_type": "code",
   "execution_count": 5,
   "id": "814c6bf0",
   "metadata": {},
   "outputs": [
    {
     "name": "stdout",
     "output_type": "stream",
     "text": [
      "+----------+--------------+---------------+------------+\n",
      "| Features | Observations | No of missing | % Missing  |\n",
      "+----------+--------------+---------------+------------+\n",
      "|   PRCP   |     7671     |      185      |    2.4%    |\n",
      "|   TMAX   |     7671     |      234      |    3.1%    |\n",
      "|   TMIN   |     7671     |      352      |    4.6%    |\n",
      "+----------+--------------+---------------+------------+\n"
     ]
    }
   ],
   "source": [
    "## Get the individual dataframe before the prism \n",
    "df_BF = df_SM_NOAA[df_SM_NOAA.index < df_PRISM.index[0]]\n",
    "Tmax = df_BF.drop(columns = ['PRCP','TMIN'])\n",
    "Tmin = df_BF.drop(columns = ['PRCP','TMAX'])\n",
    "PRCP = df_BF.drop(columns = ['TMIN','TMAX'])\n",
    "status(df_BF)"
   ]
  },
  {
   "cell_type": "markdown",
   "id": "6ef3942f",
   "metadata": {},
   "source": [
    "## Month with missing sequence "
   ]
  },
  {
   "cell_type": "code",
   "execution_count": 6,
   "id": "2b70380f",
   "metadata": {},
   "outputs": [
    {
     "data": {
      "text/html": [
       "<div>\n",
       "<style scoped>\n",
       "    .dataframe tbody tr th:only-of-type {\n",
       "        vertical-align: middle;\n",
       "    }\n",
       "\n",
       "    .dataframe tbody tr th {\n",
       "        vertical-align: top;\n",
       "    }\n",
       "\n",
       "    .dataframe thead th {\n",
       "        text-align: right;\n",
       "    }\n",
       "</style>\n",
       "<table border=\"1\" class=\"dataframe\">\n",
       "  <thead>\n",
       "    <tr style=\"text-align: right;\">\n",
       "      <th></th>\n",
       "      <th>start_Date</th>\n",
       "      <th>End_Date</th>\n",
       "      <th>Frequency</th>\n",
       "    </tr>\n",
       "  </thead>\n",
       "  <tbody>\n",
       "    <tr>\n",
       "      <th>3</th>\n",
       "      <td>1967-01-01</td>\n",
       "      <td>1967-02-28</td>\n",
       "      <td>59</td>\n",
       "    </tr>\n",
       "    <tr>\n",
       "      <th>1</th>\n",
       "      <td>1965-04-01</td>\n",
       "      <td>1965-04-30</td>\n",
       "      <td>30</td>\n",
       "    </tr>\n",
       "    <tr>\n",
       "      <th>2</th>\n",
       "      <td>1966-11-01</td>\n",
       "      <td>1966-11-30</td>\n",
       "      <td>30</td>\n",
       "    </tr>\n",
       "    <tr>\n",
       "      <th>5</th>\n",
       "      <td>1974-06-01</td>\n",
       "      <td>1974-06-30</td>\n",
       "      <td>30</td>\n",
       "    </tr>\n",
       "    <tr>\n",
       "      <th>0</th>\n",
       "      <td>1961-09-01</td>\n",
       "      <td>1961-09-17</td>\n",
       "      <td>17</td>\n",
       "    </tr>\n",
       "    <tr>\n",
       "      <th>4</th>\n",
       "      <td>1974-01-01</td>\n",
       "      <td>1974-01-17</td>\n",
       "      <td>17</td>\n",
       "    </tr>\n",
       "    <tr>\n",
       "      <th>6</th>\n",
       "      <td>1977-01-01</td>\n",
       "      <td>1977-01-02</td>\n",
       "      <td>2</td>\n",
       "    </tr>\n",
       "  </tbody>\n",
       "</table>\n",
       "</div>"
      ],
      "text/plain": [
       "  start_Date   End_Date  Frequency\n",
       "3 1967-01-01 1967-02-28         59\n",
       "1 1965-04-01 1965-04-30         30\n",
       "2 1966-11-01 1966-11-30         30\n",
       "5 1974-06-01 1974-06-30         30\n",
       "0 1961-09-01 1961-09-17         17\n",
       "4 1974-01-01 1974-01-17         17\n",
       "6 1977-01-01 1977-01-02          2"
      ]
     },
     "execution_count": 6,
     "metadata": {},
     "output_type": "execute_result"
    }
   ],
   "source": [
    "#Include the Month df_PRISM\n",
    "df_SM_NOAA.assign(Month= df_SM_NOAA.index.month)\n",
    "\n",
    "## Test a model with the extra features added\n",
    "\"\"\"Obtain the largest missing sequence we have\"\"\"\n",
    "from itertools import groupby\n",
    "df =df_BF\n",
    "df = df.fillna(-999)\n",
    "\"\"\"Create the table of the missing range\"\"\"\n",
    "table = [[v.index[0],\n",
    "          v.index[-1],len(v)]for k, v in df[df['PRCP'] == -999]\n",
    "         .groupby((df['PRCP'] != -999).cumsum())]\n",
    "\n",
    "\n",
    "\n",
    "df_missing = pd.DataFrame(table, columns=['start_Date','End_Date','Frequency'])\n",
    "df_missing.sort_values(by = ['Frequency'] , ascending= False).head(20)"
   ]
  },
  {
   "cell_type": "markdown",
   "id": "4adabf78",
   "metadata": {},
   "source": [
    "## Test the KNNImputer and the linear Interpolation "
   ]
  },
  {
   "cell_type": "code",
   "execution_count": 7,
   "id": "a09087d6",
   "metadata": {},
   "outputs": [
    {
     "name": "stdout",
     "output_type": "stream",
     "text": [
      "+----------+--------------+---------------+------------+\n",
      "| Features | Observations | No of missing | % Missing  |\n",
      "+----------+--------------+---------------+------------+\n",
      "|   PRCP   |     7671     |      185      |    2.4%    |\n",
      "|   TMAX   |     7671     |      234      |    3.1%    |\n",
      "|   TMIN   |     7671     |      352      |    4.6%    |\n",
      "|  Month   |     7671     |       0       |    0.0%    |\n",
      "+----------+--------------+---------------+------------+\n"
     ]
    }
   ],
   "source": [
    "from sklearn.impute import KNNImputer\n",
    "df_BF=df_BF.assign(Month=df_BF.index.month)\n",
    "status(df_BF)\n"
   ]
  },
  {
   "cell_type": "code",
   "execution_count": 8,
   "id": "8ce5917a",
   "metadata": {},
   "outputs": [],
   "source": [
    "Imputer = KNNImputer(weights='distance',n_neighbors = 10)\n",
    "Knn = Imputer.fit_transform(df_BF)\n",
    "Knn = pd.DataFrame(Knn, columns = ['PRCP','TMAX','TMIN', 'Month'], index = df_BF.index)"
   ]
  },
  {
   "cell_type": "markdown",
   "id": "d856d42f",
   "metadata": {},
   "source": [
    "## Linear Interpolate"
   ]
  },
  {
   "cell_type": "code",
   "execution_count": 9,
   "id": "55d9c2f1",
   "metadata": {},
   "outputs": [],
   "source": [
    "df_BF= df_BF.interpolate(method = 'linear', limit_direction= 'both')"
   ]
  },
  {
   "cell_type": "markdown",
   "id": "ed2f851c",
   "metadata": {},
   "source": [
    "## KNN R-squared score"
   ]
  },
  {
   "cell_type": "code",
   "execution_count": 10,
   "id": "f2676879",
   "metadata": {},
   "outputs": [
    {
     "name": "stdout",
     "output_type": "stream",
     "text": [
      "0.985935239094394\n",
      "0.9815344567361339\n",
      "0.9981934707508145\n"
     ]
    }
   ],
   "source": [
    "print(r2_score(Knn['TMAX'],df_BF['TMAX']))\n",
    "print(r2_score(Knn['TMIN'],df_BF['TMIN']))\n",
    "print(r2_score(Knn['PRCP'],df_BF['PRCP']))\n"
   ]
  },
  {
   "cell_type": "code",
   "execution_count": 11,
   "id": "160d3eb9",
   "metadata": {},
   "outputs": [
    {
     "name": "stdout",
     "output_type": "stream",
     "text": [
      "+----------+--------------+---------------+------------+\n",
      "| Features | Observations | No of missing | % Missing  |\n",
      "+----------+--------------+---------------+------------+\n",
      "|   PRCP   |     7671     |       0       |    0.0%    |\n",
      "|   TMAX   |     7671     |       0       |    0.0%    |\n",
      "|   TMIN   |     7671     |       0       |    0.0%    |\n",
      "|  Month   |     7671     |       0       |    0.0%    |\n",
      "+----------+--------------+---------------+------------+\n"
     ]
    }
   ],
   "source": [
    "status(df_BF)"
   ]
  },
  {
   "cell_type": "markdown",
   "id": "039af825",
   "metadata": {},
   "source": [
    "# Seperate each feature from 1981"
   ]
  },
  {
   "cell_type": "markdown",
   "id": "8d839d7c",
   "metadata": {},
   "source": [
    "Drop the na from prism date range"
   ]
  },
  {
   "cell_type": "code",
   "execution_count": 12,
   "id": "5a31b055",
   "metadata": {},
   "outputs": [],
   "source": [
    "\n",
    "Tmax = df_SM_NOAA[df_SM_NOAA.index.year >= 1981].drop(columns= ['TMIN','PRCP']).dropna()\n",
    "Tmin = df_SM_NOAA[df_SM_NOAA.index.year >= 1981].drop(columns= ['TMAX','PRCP']).dropna()\n",
    "Prcp = df_SM_NOAA[df_SM_NOAA.index.year >= 1981].drop(columns= ['TMAX','TMIN']).dropna()"
   ]
  },
  {
   "cell_type": "code",
   "execution_count": 13,
   "id": "2bb30844",
   "metadata": {
    "scrolled": true
   },
   "outputs": [
    {
     "name": "stdout",
     "output_type": "stream",
     "text": [
      "+----------+--------------+---------------+------------+\n",
      "| Features | Observations | No of missing | % Missing  |\n",
      "+----------+--------------+---------------+------------+\n",
      "|   PRCP   |    14610     |      902      |    6.2%    |\n",
      "|   TMAX   |    14610     |      624      |    4.3%    |\n",
      "|   TMIN   |    14610     |      620      |    4.2%    |\n",
      "+----------+--------------+---------------+------------+\n"
     ]
    }
   ],
   "source": [
    "status(df_SM_NOAA[df_SM_NOAA.index.year >= 1981])"
   ]
  },
  {
   "cell_type": "markdown",
   "id": "68bd2984",
   "metadata": {},
   "source": [
    "## Check the predictive accuracy of the prism data on the NOAA "
   ]
  },
  {
   "cell_type": "markdown",
   "id": "7b67f1c7",
   "metadata": {},
   "source": [
    "## Tmax"
   ]
  },
  {
   "cell_type": "code",
   "execution_count": 14,
   "id": "f10a60f2",
   "metadata": {},
   "outputs": [
    {
     "name": "stdout",
     "output_type": "stream",
     "text": [
      "+-------------------------+\n",
      "|    Training set Score   |\n",
      "+--------------+----------+\n",
      "|  Algorithm   | R-square |\n",
      "+--------------+----------+\n",
      "| RandomForest |  84.12%  |\n",
      "|   XGBoost    |  84.10%  |\n",
      "|  ExtraTree   |  84.15%  |\n",
      "+--------------+----------+\n",
      "+-------------------------+\n",
      "|      Test set Score     |\n",
      "+--------------+----------+\n",
      "|  Algorithm   | R-square |\n",
      "+--------------+----------+\n",
      "| RandomForest |  80.40%  |\n",
      "|   XGBoost    |  80.46%  |\n",
      "|  ExtraTree   |  80.43%  |\n",
      "+--------------+----------+\n"
     ]
    }
   ],
   "source": [
    "df_Tmax, Tmax_pipeline = pipeline(Tmax, df_PRISM['P_TMAX'])"
   ]
  },
  {
   "cell_type": "markdown",
   "id": "db0d3a74",
   "metadata": {},
   "source": [
    "## Tmin"
   ]
  },
  {
   "cell_type": "code",
   "execution_count": 15,
   "id": "51fe0c4a",
   "metadata": {},
   "outputs": [
    {
     "name": "stdout",
     "output_type": "stream",
     "text": [
      "+-------------------------+\n",
      "|    Training set Score   |\n",
      "+--------------+----------+\n",
      "|  Algorithm   | R-square |\n",
      "+--------------+----------+\n",
      "| RandomForest |  92.34%  |\n",
      "|   XGBoost    |  92.35%  |\n",
      "|  ExtraTree   |  92.35%  |\n",
      "+--------------+----------+\n",
      "+-------------------------+\n",
      "|      Test set Score     |\n",
      "+--------------+----------+\n",
      "|  Algorithm   | R-square |\n",
      "+--------------+----------+\n",
      "| RandomForest |  92.26%  |\n",
      "|   XGBoost    |  92.25%  |\n",
      "|  ExtraTree   |  92.21%  |\n",
      "+--------------+----------+\n"
     ]
    }
   ],
   "source": [
    "df_Tmin, Tmin_pipeline = pipeline(Tmin, df_PRISM['P_TMIN'])"
   ]
  },
  {
   "cell_type": "markdown",
   "id": "bd116b1e",
   "metadata": {},
   "source": [
    "## PRCP"
   ]
  },
  {
   "cell_type": "markdown",
   "id": "7568db29",
   "metadata": {},
   "source": [
    "All three features give R-square score > 50"
   ]
  },
  {
   "cell_type": "code",
   "execution_count": 16,
   "id": "b096e098",
   "metadata": {},
   "outputs": [],
   "source": [
    "df_P = join_first_df(Prcp,df_PRISM)\n"
   ]
  },
  {
   "cell_type": "code",
   "execution_count": 17,
   "id": "acc61e7f",
   "metadata": {},
   "outputs": [],
   "source": [
    "Feature_Names = df_PRISM.columns\n",
    "per_of_len = int(len(df_P)*.9)\n",
    "\n",
    "\n",
    "df_Train, df_Test =df_P.iloc[:per_of_len,:],df_P.iloc[per_of_len:,:]\n",
    "\n",
    "\n",
    "X_train = df_Train[Feature_Names].to_numpy()\n",
    "X_test = df_Test[Feature_Names].to_numpy()\n",
    "y_train = df_Train['PRCP'].to_numpy()\n",
    "y_test = df_Test['PRCP'].to_numpy()\n",
    "## Build the pipelines "
   ]
  },
  {
   "cell_type": "code",
   "execution_count": 18,
   "id": "4734fc4d",
   "metadata": {},
   "outputs": [
    {
     "name": "stdout",
     "output_type": "stream",
     "text": [
      "Fitting 3 folds for each of 10 candidates, totalling 30 fits\n",
      "############ Model Train Accuracy ############\n",
      "RMSE: 5.690 mm.\n",
      "MAE: 1.382 mm.\n",
      "R-squared: 0.715\n",
      "MAPE: inf\n",
      "########################################\n",
      "############ Model Test Accuracy  ############\n",
      "RMSE: 6.122 mm.\n",
      "MAE: 1.794 mm.\n",
      "R-squared: 0.685\n",
      "MAPE: inf\n",
      "########################################\n"
     ]
    }
   ],
   "source": [
    "from sklearn.pipeline import Pipeline\n",
    "from sklearn.model_selection import RandomizedSearchCV, GridSearchCV\n",
    "\n",
    "\n",
    "p_grid = dict(n_estimators = [int(i) for i in np.linspace(100,2000,num=20)],\n",
    "              max_depth = [int(i) for i in np.linspace(6,12,num=7)])\n",
    "\n",
    "model = RandomizedSearchCV(estimator = ExtraTreesRegressor(),\n",
    "                           param_distributions= p_grid,\n",
    "                           scoring = r2_score, \n",
    "                           cv = 3, verbose=1, n_jobs=-1)\n",
    "\n",
    "\n",
    "model = model.fit(X_train,y_train)\n",
    "\n",
    "\n",
    "\n",
    "\n",
    "\n",
    "print_results(model,X_train,y_train,X_test,y_test)"
   ]
  },
  {
   "cell_type": "code",
   "execution_count": 17,
   "id": "80fdc69b",
   "metadata": {},
   "outputs": [],
   "source": [
    "model = ExtraTreesRegressor(**model.best_params_).fit(X_train,y_train)"
   ]
  },
  {
   "cell_type": "markdown",
   "id": "8b4b9094",
   "metadata": {},
   "source": [
    "## Use models to predict missing dates > 1981"
   ]
  },
  {
   "cell_type": "markdown",
   "id": "534f8e3a",
   "metadata": {},
   "source": [
    "**individual features**"
   ]
  },
  {
   "cell_type": "code",
   "execution_count": 18,
   "id": "f638aed2",
   "metadata": {},
   "outputs": [],
   "source": [
    "\n",
    "TMAX = df_SM_NOAA[df_SM_NOAA.index.year >= 1981].drop(columns= ['TMIN','PRCP'])\n",
    "TMIN = df_SM_NOAA[df_SM_NOAA.index.year >= 1981].drop(columns= ['TMAX','PRCP'])\n",
    "PRCP = df_SM_NOAA[df_SM_NOAA.index.year >= 1981].drop(columns= ['TMAX','TMIN'])\n"
   ]
  },
  {
   "cell_type": "code",
   "execution_count": 19,
   "id": "56a23756",
   "metadata": {},
   "outputs": [],
   "source": [
    "Missing_TMIN = pd.DataFrame(df_PRISM.loc[TMIN[TMIN[\"TMIN\"].isna()].index][\"P_TMIN\"])\n",
    "Missing_TMAX = pd.DataFrame(df_PRISM.loc[TMAX[TMAX[\"TMAX\"].isna()].index][\"P_TMAX\"])\n",
    "Missing_PRCP = pd.DataFrame(df_PRISM.loc[TMAX[PRCP[\"PRCP\"].isna()].index])"
   ]
  },
  {
   "cell_type": "markdown",
   "id": "82cff820",
   "metadata": {},
   "source": [
    "**ExtraTree model is useds to predict the mising values of precipitation**\n",
    "**with the use of precipitation from prism, older analysis**"
   ]
  },
  {
   "cell_type": "code",
   "execution_count": 20,
   "id": "67210480",
   "metadata": {},
   "outputs": [],
   "source": [
    "\n",
    "\n",
    "FIll = pd.DataFrame({'TMIN':Tmin_pipeline[2].predict(Missing_TMIN)}\n",
    "                    , index = Missing_TMIN.index)\n",
    "FIll2 = pd.DataFrame({'TMAX':Tmax_pipeline[2].predict(Missing_TMAX)}\n",
    "                     , index = Missing_TMAX.index)\n",
    "\n",
    "\n",
    "\n",
    "FIll3 = pd.DataFrame({'PRCP':model.predict(Missing_PRCP)}\n",
    "                     , index = Missing_PRCP.index)\n",
    "FIll3.loc[(FIll3['PRCP'] < 1)] = pd.DataFrame(df_PRISM['P_PRCP']\n",
    "                                              .loc[FIll3[FIll3['PRCP'] < 1].index])\n"
   ]
  },
  {
   "cell_type": "code",
   "execution_count": 21,
   "id": "d5cc3789",
   "metadata": {},
   "outputs": [],
   "source": [
    "TMAX.loc[FIll2.index] = FIll2\n",
    "TMIN.loc[FIll.index] = FIll\n",
    "PRCP.loc[FIll3.index] = FIll3"
   ]
  },
  {
   "cell_type": "code",
   "execution_count": 22,
   "id": "ae337868",
   "metadata": {},
   "outputs": [],
   "source": [
    "df_CLIM_1981 = pd.concat([TMAX,TMIN,PRCP],axis = 1, join='outer')\n",
    "df_CLIM_1981= df_CLIM_1981.assign(Month = df_CLIM_1981.index.month)\n"
   ]
  },
  {
   "cell_type": "code",
   "execution_count": 23,
   "id": "db26718f",
   "metadata": {},
   "outputs": [],
   "source": [
    "## append to the data < 1981"
   ]
  },
  {
   "cell_type": "code",
   "execution_count": 24,
   "id": "244d1cab",
   "metadata": {},
   "outputs": [
    {
     "name": "stdout",
     "output_type": "stream",
     "text": [
      "+----------+--------------+---------------+------------+\n",
      "| Features | Observations | No of missing | % Missing  |\n",
      "+----------+--------------+---------------+------------+\n",
      "|   PRCP   |     7427     |       0       |    0.0%    |\n",
      "|   TMAX   |     7427     |       0       |    0.0%    |\n",
      "|   TMIN   |     7427     |       0       |    0.0%    |\n",
      "|  Month   |     7427     |       0       |    0.0%    |\n",
      "+----------+--------------+---------------+------------+\n"
     ]
    }
   ],
   "source": [
    "status(df_BF)"
   ]
  },
  {
   "cell_type": "code",
   "execution_count": 25,
   "id": "767bb61b",
   "metadata": {},
   "outputs": [],
   "source": [
    "df_SM = df_BF.append(df_CLIM_1981)\n",
    "\n",
    "\n",
    "df_SM.to_csv('df_SM.csv')"
   ]
  },
  {
   "cell_type": "code",
   "execution_count": 26,
   "id": "6b711610",
   "metadata": {},
   "outputs": [
    {
     "data": {
      "text/html": [
       "<style>\n",
       ".output {\n",
       "    flex-direction: row;\n",
       "}\n",
       "</style>"
      ],
      "text/plain": [
       "<IPython.core.display.HTML object>"
      ]
     },
     "execution_count": 26,
     "metadata": {},
     "output_type": "execute_result"
    }
   ],
   "source": [
    "\n",
    "import pandas as pd\n",
    "import numpy as np\n",
    "from IPython.display import display, HTML\n",
    "\n",
    "CSS = \"\"\"\n",
    ".output {\n",
    "    flex-direction: row;\n",
    "}\n",
    "\"\"\"\n",
    "\n",
    "HTML('<style>{}</style>'.format(CSS))\n",
    "\n",
    "\n",
    "\n"
   ]
  },
  {
   "cell_type": "markdown",
   "id": "28cb8778",
   "metadata": {},
   "source": [
    "**Load the San marcos springs data**"
   ]
  },
  {
   "cell_type": "code",
   "execution_count": 27,
   "id": "363346f8",
   "metadata": {},
   "outputs": [
    {
     "data": {
      "text/html": [
       "<div>\n",
       "<style scoped>\n",
       "    .dataframe tbody tr th:only-of-type {\n",
       "        vertical-align: middle;\n",
       "    }\n",
       "\n",
       "    .dataframe tbody tr th {\n",
       "        vertical-align: top;\n",
       "    }\n",
       "\n",
       "    .dataframe thead th {\n",
       "        text-align: right;\n",
       "    }\n",
       "</style>\n",
       "<table border=\"1\" class=\"dataframe\">\n",
       "  <thead>\n",
       "    <tr style=\"text-align: right;\">\n",
       "      <th></th>\n",
       "      <th>SanMarcos_SF(cfs)</th>\n",
       "      <th>SanMarcos_SF(m3)</th>\n",
       "    </tr>\n",
       "    <tr>\n",
       "      <th>Date</th>\n",
       "      <th></th>\n",
       "      <th></th>\n",
       "    </tr>\n",
       "  </thead>\n",
       "  <tbody>\n",
       "    <tr>\n",
       "      <th>1956-05-26</th>\n",
       "      <td>65.0</td>\n",
       "      <td>1.841</td>\n",
       "    </tr>\n",
       "    <tr>\n",
       "      <th>1956-05-27</th>\n",
       "      <td>69.0</td>\n",
       "      <td>1.954</td>\n",
       "    </tr>\n",
       "    <tr>\n",
       "      <th>1956-05-28</th>\n",
       "      <td>69.0</td>\n",
       "      <td>1.954</td>\n",
       "    </tr>\n",
       "    <tr>\n",
       "      <th>1956-05-29</th>\n",
       "      <td>68.0</td>\n",
       "      <td>1.926</td>\n",
       "    </tr>\n",
       "    <tr>\n",
       "      <th>1956-05-30</th>\n",
       "      <td>65.0</td>\n",
       "      <td>1.841</td>\n",
       "    </tr>\n",
       "    <tr>\n",
       "      <th>...</th>\n",
       "      <td>...</td>\n",
       "      <td>...</td>\n",
       "    </tr>\n",
       "    <tr>\n",
       "      <th>2021-03-04</th>\n",
       "      <td>112.0</td>\n",
       "      <td>3.171</td>\n",
       "    </tr>\n",
       "    <tr>\n",
       "      <th>2021-03-05</th>\n",
       "      <td>112.0</td>\n",
       "      <td>3.171</td>\n",
       "    </tr>\n",
       "    <tr>\n",
       "      <th>2021-03-06</th>\n",
       "      <td>112.0</td>\n",
       "      <td>3.171</td>\n",
       "    </tr>\n",
       "    <tr>\n",
       "      <th>2021-03-07</th>\n",
       "      <td>113.0</td>\n",
       "      <td>3.200</td>\n",
       "    </tr>\n",
       "    <tr>\n",
       "      <th>2021-03-08</th>\n",
       "      <td>112.0</td>\n",
       "      <td>3.171</td>\n",
       "    </tr>\n",
       "  </tbody>\n",
       "</table>\n",
       "<p>23663 rows × 2 columns</p>\n",
       "</div>"
      ],
      "text/plain": [
       "            SanMarcos_SF(cfs)  SanMarcos_SF(m3)\n",
       "Date                                           \n",
       "1956-05-26               65.0             1.841\n",
       "1956-05-27               69.0             1.954\n",
       "1956-05-28               69.0             1.954\n",
       "1956-05-29               68.0             1.926\n",
       "1956-05-30               65.0             1.841\n",
       "...                       ...               ...\n",
       "2021-03-04              112.0             3.171\n",
       "2021-03-05              112.0             3.171\n",
       "2021-03-06              112.0             3.171\n",
       "2021-03-07              113.0             3.200\n",
       "2021-03-08              112.0             3.171\n",
       "\n",
       "[23663 rows x 2 columns]"
      ]
     },
     "execution_count": 27,
     "metadata": {},
     "output_type": "execute_result"
    }
   ],
   "source": [
    "skip_rows = 32\n",
    "#base_dir  = r\"C:\\Users\\hbasagaoglu\\Documents\\Springs_EAA\\SanMarcos_Springs\"\n",
    "filename  = r\"Input/Daily_SpringDischarge_SanMarcos.csv\"\n",
    "\n",
    "SanMarcos_Spring_Flow_or = pd.read_csv('Input/Daily_SpringDischarge_SanMarcos.csv',\n",
    "                                       skiprows = 30)\n",
    "\n",
    "SanMarcos_Spring_Flow = SanMarcos_Spring_Flow_or[['20d', \n",
    "                                                  '14n']].copy()\n",
    "SanMarcos_Spring_Flow = SanMarcos_Spring_Flow.rename(\n",
    "    columns = {'20d' : 'Date', '14n' : 'SanMarcos_SF(cfs)'})\n",
    "\n",
    "SanMarcos_Spring_Flow.index=  pd.to_datetime(SanMarcos_Spring_Flow['Date'])\n",
    "\n",
    "\n",
    "SanMarcos_Spring_Flow['SanMarcos_SF(m3)'] = round(SanMarcos_Spring_Flow['SanMarcos_SF(cfs)']\n",
    "                                                  .astype(float)*0.028316847, 3)\n",
    "\n",
    "\n",
    "SanMarcos_Spring_Flow.drop(columns=['Date'])"
   ]
  },
  {
   "cell_type": "code",
   "execution_count": 28,
   "id": "f1628c49",
   "metadata": {},
   "outputs": [
    {
     "name": "stdout",
     "output_type": "stream",
     "text": [
      "+-------------------+--------------+---------------+------------+\n",
      "|     Features      | Observations | No of missing | % Missing  |\n",
      "+-------------------+--------------+---------------+------------+\n",
      "|       Date        |    22037     |       0       |    0.0%    |\n",
      "| SanMarcos_SF(cfs) |    22037     |       0       |    0.0%    |\n",
      "| SanMarcos_SF(m3)  |    22037     |       0       |    0.0%    |\n",
      "+-------------------+--------------+---------------+------------+\n"
     ]
    }
   ],
   "source": [
    "Sanmarcos_sf = SanMarcos_Spring_Flow.loc[(SanMarcos_Spring_Flow.index >='1960-09-01') \n",
    "                                         &(SanMarcos_Spring_Flow.index <='2020-12-31')]\n",
    "\n",
    "\n",
    "\n",
    "Sanmarcos_sf= Sanmarcos_sf.interpolate(method = 'linear', limit_direction= 'both')\n",
    "\n",
    "status(Sanmarcos_sf)"
   ]
  },
  {
   "cell_type": "code",
   "execution_count": 29,
   "id": "573bbfa6-af59-49ba-9126-4032de084c18",
   "metadata": {},
   "outputs": [
    {
     "data": {
      "text/plain": [
       "22037"
      ]
     },
     "execution_count": 29,
     "metadata": {},
     "output_type": "execute_result"
    }
   ],
   "source": [
    "len(df_SM)"
   ]
  },
  {
   "cell_type": "markdown",
   "id": "5eb0e5af",
   "metadata": {},
   "source": [
    "**create the dataframe**"
   ]
  },
  {
   "cell_type": "code",
   "execution_count": 30,
   "id": "ba70c11c-b02c-40bb-9018-2c846914191a",
   "metadata": {},
   "outputs": [
    {
     "data": {
      "text/plain": [
       "DatetimeIndex(['1960-09-01', '1960-09-02', '1960-09-03', '1960-09-04',\n",
       "               '1960-09-05', '1960-09-06', '1960-09-07', '1960-09-08',\n",
       "               '1960-09-09', '1960-09-10',\n",
       "               ...\n",
       "               '2020-12-22', '2020-12-23', '2020-12-24', '2020-12-25',\n",
       "               '2020-12-26', '2020-12-27', '2020-12-28', '2020-12-29',\n",
       "               '2020-12-30', '2020-12-31'],\n",
       "              dtype='datetime64[ns]', name='DATE', length=22037, freq='D')"
      ]
     },
     "execution_count": 30,
     "metadata": {},
     "output_type": "execute_result"
    }
   ],
   "source": [
    "df_AI = pd.concat([df_SM,Sanmarcos_sf.drop(columns=['Date','SanMarcos_SF(cfs)'])]\n",
    "          ,axis = 1,join='outer')\n",
    "\n",
    "df_AI.index.rename('DATE')\n"
   ]
  },
  {
   "cell_type": "code",
   "execution_count": 31,
   "id": "4df8c4a1-d688-4c11-8426-5551125df19b",
   "metadata": {},
   "outputs": [],
   "source": [
    "df_AI.to_csv('df_AI.csv')"
   ]
  },
  {
   "cell_type": "markdown",
   "id": "c04e2baf-72dd-4a66-bdaf-6a9794c37cfe",
   "metadata": {},
   "source": [
    "**Prepare XAI framework**"
   ]
  }
 ],
 "metadata": {
  "kernelspec": {
   "display_name": "Python 3.7.7 64-bit ('base': conda)",
   "language": "python",
   "name": "python377jvsc74a57bd09663f43baed29d9c51e7c53f006bb18f9fe16c0c3ba42b9991cae283e1c6a93f"
  },
  "language_info": {
   "codemirror_mode": {
    "name": "ipython",
    "version": 3
   },
   "file_extension": ".py",
   "mimetype": "text/x-python",
   "name": "python",
   "nbconvert_exporter": "python",
   "pygments_lexer": "ipython3",
   "version": "3.7.7"
  }
 },
 "nbformat": 4,
 "nbformat_minor": 5
}
